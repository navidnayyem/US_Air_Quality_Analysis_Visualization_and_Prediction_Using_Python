version https://git-lfs.github.com/spec/v1
oid sha256:88f63fc80f36936d598ca6a8252f2f79f1bc54b0b66234d8e6437b1424de4b2d
size 39714944
